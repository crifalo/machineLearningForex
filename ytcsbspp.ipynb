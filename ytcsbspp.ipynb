{
  "nbformat": 4,
  "nbformat_minor": 0,
  "metadata": {
    "colab": {
      "name": "ytcsbspp.ipynb",
      "provenance": [],
      "include_colab_link": true
    },
    "kernelspec": {
      "name": "python3",
      "display_name": "Python 3"
    }
  },
  "cells": [
    {
      "cell_type": "markdown",
      "metadata": {
        "id": "view-in-github",
        "colab_type": "text"
      },
      "source": [
        "<a href=\"https://colab.research.google.com/github/gomlfx/machineLearningForex/blob/master/ytcsbspp.ipynb\" target=\"_parent\"><img src=\"https://colab.research.google.com/assets/colab-badge.svg\" alt=\"Open In Colab\"/></a>"
      ]
    },
    {
      "cell_type": "code",
      "metadata": {
        "id": "zV0Vxye8-S-M",
        "colab_type": "code",
        "colab": {
          "base_uri": "https://localhost:8080/",
          "height": 340
        },
        "outputId": "e3550e4e-ecf4-4be9-fea0-efee2f21b588"
      },
      "source": [
        "pip install quandl"
      ],
      "execution_count": 1,
      "outputs": [
        {
          "output_type": "stream",
          "text": [
            "Requirement already satisfied: quandl in /usr/local/lib/python3.6/dist-packages (3.4.8)\n",
            "Requirement already satisfied: pandas>=0.14 in /usr/local/lib/python3.6/dist-packages (from quandl) (0.25.3)\n",
            "Requirement already satisfied: pyasn1 in /usr/local/lib/python3.6/dist-packages (from quandl) (0.4.7)\n",
            "Requirement already satisfied: six in /usr/local/lib/python3.6/dist-packages (from quandl) (1.12.0)\n",
            "Requirement already satisfied: requests>=2.7.0 in /usr/local/lib/python3.6/dist-packages (from quandl) (2.21.0)\n",
            "Requirement already satisfied: more-itertools<=5.0.0 in /usr/local/lib/python3.6/dist-packages (from quandl) (5.0.0)\n",
            "Requirement already satisfied: pyOpenSSL in /usr/local/lib/python3.6/dist-packages (from quandl) (19.1.0)\n",
            "Requirement already satisfied: python-dateutil in /usr/local/lib/python3.6/dist-packages (from quandl) (2.6.1)\n",
            "Requirement already satisfied: numpy>=1.8 in /usr/local/lib/python3.6/dist-packages (from quandl) (1.17.4)\n",
            "Requirement already satisfied: ndg-httpsclient in /usr/local/lib/python3.6/dist-packages (from quandl) (0.5.1)\n",
            "Requirement already satisfied: inflection>=0.3.1 in /usr/local/lib/python3.6/dist-packages (from quandl) (0.3.1)\n",
            "Requirement already satisfied: pytz>=2017.2 in /usr/local/lib/python3.6/dist-packages (from pandas>=0.14->quandl) (2018.9)\n",
            "Requirement already satisfied: certifi>=2017.4.17 in /usr/local/lib/python3.6/dist-packages (from requests>=2.7.0->quandl) (2019.9.11)\n",
            "Requirement already satisfied: chardet<3.1.0,>=3.0.2 in /usr/local/lib/python3.6/dist-packages (from requests>=2.7.0->quandl) (3.0.4)\n",
            "Requirement already satisfied: idna<2.9,>=2.5 in /usr/local/lib/python3.6/dist-packages (from requests>=2.7.0->quandl) (2.8)\n",
            "Requirement already satisfied: urllib3<1.25,>=1.21.1 in /usr/local/lib/python3.6/dist-packages (from requests>=2.7.0->quandl) (1.24.3)\n",
            "Requirement already satisfied: cryptography>=2.8 in /usr/local/lib/python3.6/dist-packages (from pyOpenSSL->quandl) (2.8)\n",
            "Requirement already satisfied: cffi!=1.11.3,>=1.8 in /usr/local/lib/python3.6/dist-packages (from cryptography>=2.8->pyOpenSSL->quandl) (1.13.2)\n",
            "Requirement already satisfied: pycparser in /usr/local/lib/python3.6/dist-packages (from cffi!=1.11.3,>=1.8->cryptography>=2.8->pyOpenSSL->quandl) (2.19)\n"
          ],
          "name": "stdout"
        }
      ]
    },
    {
      "cell_type": "code",
      "metadata": {
        "id": "PsLITBge-ttf",
        "colab_type": "code",
        "colab": {}
      },
      "source": [
        "import pandas as pd\n",
        "import quandl\n",
        "import numpy as np\n",
        "from sklearn.linear_model import LinearRegression\n",
        "from sklearn.svm import SVR\n",
        "from sklearn.model_selection import train_test_split"
      ],
      "execution_count": 0,
      "outputs": []
    },
    {
      "cell_type": "code",
      "metadata": {
        "id": "UFJcA1KY_FeB",
        "colab_type": "code",
        "colab": {
          "base_uri": "https://localhost:8080/",
          "height": 204
        },
        "outputId": "19cbd8cd-dcab-4a81-d936-41ee424642c1"
      },
      "source": [
        "#get the data\n",
        "df = pd.read_csv(\"https://raw.githubusercontent.com/gomlfx/machineLearningForex/master/EURUSD60.csv\")\n",
        "df.tail()"
      ],
      "execution_count": 20,
      "outputs": [
        {
          "output_type": "execute_result",
          "data": {
            "text/html": [
              "<div>\n",
              "<style scoped>\n",
              "    .dataframe tbody tr th:only-of-type {\n",
              "        vertical-align: middle;\n",
              "    }\n",
              "\n",
              "    .dataframe tbody tr th {\n",
              "        vertical-align: top;\n",
              "    }\n",
              "\n",
              "    .dataframe thead th {\n",
              "        text-align: right;\n",
              "    }\n",
              "</style>\n",
              "<table border=\"1\" class=\"dataframe\">\n",
              "  <thead>\n",
              "    <tr style=\"text-align: right;\">\n",
              "      <th></th>\n",
              "      <th>day</th>\n",
              "      <th>close</th>\n",
              "    </tr>\n",
              "  </thead>\n",
              "  <tbody>\n",
              "    <tr>\n",
              "      <th>12227</th>\n",
              "      <td>20191011</td>\n",
              "      <td>1.10349</td>\n",
              "    </tr>\n",
              "    <tr>\n",
              "      <th>12228</th>\n",
              "      <td>20191014</td>\n",
              "      <td>1.10259</td>\n",
              "    </tr>\n",
              "    <tr>\n",
              "      <th>12229</th>\n",
              "      <td>20191015</td>\n",
              "      <td>1.10316</td>\n",
              "    </tr>\n",
              "    <tr>\n",
              "      <th>12230</th>\n",
              "      <td>20191016</td>\n",
              "      <td>1.10718</td>\n",
              "    </tr>\n",
              "    <tr>\n",
              "      <th>12231</th>\n",
              "      <td>20191017</td>\n",
              "      <td>1.11242</td>\n",
              "    </tr>\n",
              "  </tbody>\n",
              "</table>\n",
              "</div>"
            ],
            "text/plain": [
              "            day    close\n",
              "12227  20191011  1.10349\n",
              "12228  20191014  1.10259\n",
              "12229  20191015  1.10316\n",
              "12230  20191016  1.10718\n",
              "12231  20191017  1.11242"
            ]
          },
          "metadata": {
            "tags": []
          },
          "execution_count": 20
        }
      ]
    },
    {
      "cell_type": "code",
      "metadata": {
        "id": "HcMW5QPLOlkg",
        "colab_type": "code",
        "colab": {
          "base_uri": "https://localhost:8080/",
          "height": 204
        },
        "outputId": "6f50358d-b239-4ecc-c24c-d08de14d4b93"
      },
      "source": [
        "df = df[['close']]\n",
        "df.head()"
      ],
      "execution_count": 21,
      "outputs": [
        {
          "output_type": "execute_result",
          "data": {
            "text/html": [
              "<div>\n",
              "<style scoped>\n",
              "    .dataframe tbody tr th:only-of-type {\n",
              "        vertical-align: middle;\n",
              "    }\n",
              "\n",
              "    .dataframe tbody tr th {\n",
              "        vertical-align: top;\n",
              "    }\n",
              "\n",
              "    .dataframe thead th {\n",
              "        text-align: right;\n",
              "    }\n",
              "</style>\n",
              "<table border=\"1\" class=\"dataframe\">\n",
              "  <thead>\n",
              "    <tr style=\"text-align: right;\">\n",
              "      <th></th>\n",
              "      <th>close</th>\n",
              "    </tr>\n",
              "  </thead>\n",
              "  <tbody>\n",
              "    <tr>\n",
              "      <th>0</th>\n",
              "      <td>0.5369</td>\n",
              "    </tr>\n",
              "    <tr>\n",
              "      <th>1</th>\n",
              "      <td>0.5366</td>\n",
              "    </tr>\n",
              "    <tr>\n",
              "      <th>2</th>\n",
              "      <td>0.5365</td>\n",
              "    </tr>\n",
              "    <tr>\n",
              "      <th>3</th>\n",
              "      <td>0.5368</td>\n",
              "    </tr>\n",
              "    <tr>\n",
              "      <th>4</th>\n",
              "      <td>0.5371</td>\n",
              "    </tr>\n",
              "  </tbody>\n",
              "</table>\n",
              "</div>"
            ],
            "text/plain": [
              "    close\n",
              "0  0.5369\n",
              "1  0.5366\n",
              "2  0.5365\n",
              "3  0.5368\n",
              "4  0.5371"
            ]
          },
          "metadata": {
            "tags": []
          },
          "execution_count": 21
        }
      ]
    },
    {
      "cell_type": "code",
      "metadata": {
        "id": "ABtBSIdg-1_G",
        "colab_type": "code",
        "colab": {
          "base_uri": "https://localhost:8080/",
          "height": 119
        },
        "outputId": "dbc5901c-e84a-4bc3-9453-757374a08096"
      },
      "source": [
        "forecast_out = 30\n",
        "#create another column (the target or dependent variable) shifted 'n' units up\n",
        "df['Prediction'] = df[['close']].shift(-forecast_out)\n",
        "print(df.tail())"
      ],
      "execution_count": 4,
      "outputs": [
        {
          "output_type": "stream",
          "text": [
            "         close  Prediction\n",
            "12227  1.10349         NaN\n",
            "12228  1.10259         NaN\n",
            "12229  1.10316         NaN\n",
            "12230  1.10718         NaN\n",
            "12231  1.11242         NaN\n"
          ],
          "name": "stdout"
        }
      ]
    },
    {
      "cell_type": "code",
      "metadata": {
        "id": "pnT04yruC4MR",
        "colab_type": "code",
        "colab": {
          "base_uri": "https://localhost:8080/",
          "height": 136
        },
        "outputId": "13ac182d-24d0-48ba-ecf6-f9a4f99ccde7"
      },
      "source": [
        "#create independent x\n",
        "x = np.array(df.drop(['Prediction'],1))\n",
        "#remove last n rows\n",
        "x = x[:-forecast_out]\n",
        "print(x)\n"
      ],
      "execution_count": 5,
      "outputs": [
        {
          "output_type": "stream",
          "text": [
            "[[0.5369 ]\n",
            " [0.5366 ]\n",
            " [0.5365 ]\n",
            " ...\n",
            " [1.09733]\n",
            " [1.10348]\n",
            " [1.1034 ]]\n"
          ],
          "name": "stdout"
        }
      ]
    },
    {
      "cell_type": "code",
      "metadata": {
        "id": "2vio6UNeF6i_",
        "colab_type": "code",
        "colab": {
          "base_uri": "https://localhost:8080/",
          "height": 34
        },
        "outputId": "8b860bd6-2f77-4223-dadf-0fe2be89202f"
      },
      "source": [
        "#convert df to np array\n",
        "y = np.array(df['Prediction'])\n",
        "#get all y values except last n rows\n",
        "y = y[:-forecast_out]\n",
        "print(y)"
      ],
      "execution_count": 6,
      "outputs": [
        {
          "output_type": "stream",
          "text": [
            "[0.5387  0.5384  0.5385  ... 1.10316 1.10718 1.11242]\n"
          ],
          "name": "stdout"
        }
      ]
    },
    {
      "cell_type": "code",
      "metadata": {
        "id": "PbR5fC9AGNmT",
        "colab_type": "code",
        "colab": {}
      },
      "source": [
        "#split data into 80/20 train/test\n",
        "x_train, x_test, y_train, y_test = train_test_split(x,y,test_size=0.2)"
      ],
      "execution_count": 0,
      "outputs": []
    },
    {
      "cell_type": "code",
      "metadata": {
        "id": "MvvrUDCpG4u1",
        "colab_type": "code",
        "colab": {}
      },
      "source": [
        "#make/train model svm"
      ],
      "execution_count": 0,
      "outputs": []
    },
    {
      "cell_type": "code",
      "metadata": {
        "id": "mf290pf_HCZZ",
        "colab_type": "code",
        "colab": {
          "base_uri": "https://localhost:8080/",
          "height": 51
        },
        "outputId": "aa3953da-481b-49f5-90be-10ed03579446"
      },
      "source": [
        "svr_rbf = SVR(kernel = 'rbf', C=1e3, gamma=0.1)\n",
        "svr_rbf.fit(x_train, y_train)"
      ],
      "execution_count": 9,
      "outputs": [
        {
          "output_type": "execute_result",
          "data": {
            "text/plain": [
              "SVR(C=1000.0, cache_size=200, coef0=0.0, degree=3, epsilon=0.1, gamma=0.1,\n",
              "    kernel='rbf', max_iter=-1, shrinking=True, tol=0.001, verbose=False)"
            ]
          },
          "metadata": {
            "tags": []
          },
          "execution_count": 9
        }
      ]
    },
    {
      "cell_type": "code",
      "metadata": {
        "id": "MTXI2aIHHgX6",
        "colab_type": "code",
        "colab": {
          "base_uri": "https://localhost:8080/",
          "height": 34
        },
        "outputId": "2c075741-8aad-40f8-a2b4-6bd13f2064ae"
      },
      "source": [
        "#test model \n",
        "svm_confidence = svr_rbf.score(x_test, y_test)\n",
        "print(\"svm confidence:\", svm_confidence)"
      ],
      "execution_count": 10,
      "outputs": [
        {
          "output_type": "stream",
          "text": [
            "svm confidence: 0.9689449891670349\n"
          ],
          "name": "stdout"
        }
      ]
    },
    {
      "cell_type": "code",
      "metadata": {
        "id": "forWxWMII4rQ",
        "colab_type": "code",
        "colab": {}
      },
      "source": [
        "#make/train linear regression"
      ],
      "execution_count": 0,
      "outputs": []
    },
    {
      "cell_type": "code",
      "metadata": {
        "id": "2Z9x6XGpI-Ds",
        "colab_type": "code",
        "colab": {
          "base_uri": "https://localhost:8080/",
          "height": 34
        },
        "outputId": "063114f7-c65b-4dfc-c572-2d58e4f38fdc"
      },
      "source": [
        "lr = LinearRegression()\n",
        "#train model\n",
        "lr.fit(x_train, y_train)"
      ],
      "execution_count": 12,
      "outputs": [
        {
          "output_type": "execute_result",
          "data": {
            "text/plain": [
              "LinearRegression(copy_X=True, fit_intercept=True, n_jobs=None, normalize=False)"
            ]
          },
          "metadata": {
            "tags": []
          },
          "execution_count": 12
        }
      ]
    },
    {
      "cell_type": "code",
      "metadata": {
        "id": "izhWwCEDJPK7",
        "colab_type": "code",
        "colab": {
          "base_uri": "https://localhost:8080/",
          "height": 34
        },
        "outputId": "0200120d-9a75-4f13-bf15-7e045424447c"
      },
      "source": [
        "lr_confidence = lr.score(x_test, y_test)\n",
        "print(\"lr confidence:\", lr_confidence)"
      ],
      "execution_count": 13,
      "outputs": [
        {
          "output_type": "stream",
          "text": [
            "lr confidence: 0.9696746266501455\n"
          ],
          "name": "stdout"
        }
      ]
    },
    {
      "cell_type": "code",
      "metadata": {
        "id": "0OCgZlWOJccT",
        "colab_type": "code",
        "colab": {}
      },
      "source": [
        "#make/train lgbm\n",
        "from lightgbm import LGBMRegressor "
      ],
      "execution_count": 0,
      "outputs": []
    },
    {
      "cell_type": "code",
      "metadata": {
        "id": "gNavXjYRKIyC",
        "colab_type": "code",
        "colab": {
          "base_uri": "https://localhost:8080/",
          "height": 119
        },
        "outputId": "bdc9d981-e732-41e4-8368-db551189dde2"
      },
      "source": [
        "lgbm = LGBMRegressor()\n",
        "#train the model\n",
        "lgbm.fit(x_train, y_train)"
      ],
      "execution_count": 15,
      "outputs": [
        {
          "output_type": "execute_result",
          "data": {
            "text/plain": [
              "LGBMRegressor(boosting_type='gbdt', class_weight=None, colsample_bytree=1.0,\n",
              "              importance_type='split', learning_rate=0.1, max_depth=-1,\n",
              "              min_child_samples=20, min_child_weight=0.001, min_split_gain=0.0,\n",
              "              n_estimators=100, n_jobs=-1, num_leaves=31, objective=None,\n",
              "              random_state=None, reg_alpha=0.0, reg_lambda=0.0, silent=True,\n",
              "              subsample=1.0, subsample_for_bin=200000, subsample_freq=0)"
            ]
          },
          "metadata": {
            "tags": []
          },
          "execution_count": 15
        }
      ]
    },
    {
      "cell_type": "code",
      "metadata": {
        "id": "a7d6LvTxKQWY",
        "colab_type": "code",
        "colab": {
          "base_uri": "https://localhost:8080/",
          "height": 34
        },
        "outputId": "21a89a26-7dcb-479e-825e-eb11871ea288"
      },
      "source": [
        "lgbm_confidence = lgbm.score(x_test, y_test)\n",
        "print(\"lgbm confidence: \", lgbm_confidence)"
      ],
      "execution_count": 16,
      "outputs": [
        {
          "output_type": "stream",
          "text": [
            "lgbm confidence:  0.9704160030588524\n"
          ],
          "name": "stdout"
        }
      ]
    },
    {
      "cell_type": "code",
      "metadata": {
        "id": "t6iNacEfKp7I",
        "colab_type": "code",
        "colab": {
          "base_uri": "https://localhost:8080/",
          "height": 527
        },
        "outputId": "52e7e9f2-132f-4120-ff98-42f7b4c38ce9"
      },
      "source": [
        "#set x_forecast equal to the last 30 rows of the original data set from close column\n",
        "x_forecast = np.array(df.drop(['Prediction'],1))[-forecast_out:]\n",
        "print(x_forecast)"
      ],
      "execution_count": 17,
      "outputs": [
        {
          "output_type": "stream",
          "text": [
            "[[1.10245]\n",
            " [1.10477]\n",
            " [1.10432]\n",
            " [1.10102]\n",
            " [1.10643]\n",
            " [1.10697]\n",
            " [1.10003]\n",
            " [1.10725]\n",
            " [1.10299]\n",
            " [1.10408]\n",
            " [1.10187]\n",
            " [1.09925]\n",
            " [1.10197]\n",
            " [1.09418]\n",
            " [1.09198]\n",
            " [1.09409]\n",
            " [1.0898 ]\n",
            " [1.0933 ]\n",
            " [1.09587]\n",
            " [1.09626]\n",
            " [1.09768]\n",
            " [1.09701]\n",
            " [1.09553]\n",
            " [1.09707]\n",
            " [1.10053]\n",
            " [1.10349]\n",
            " [1.10259]\n",
            " [1.10316]\n",
            " [1.10718]\n",
            " [1.11242]]\n"
          ],
          "name": "stdout"
        }
      ]
    },
    {
      "cell_type": "code",
      "metadata": {
        "id": "_HVOmKRRLFBF",
        "colab_type": "code",
        "colab": {
          "base_uri": "https://localhost:8080/",
          "height": 102
        },
        "outputId": "1748dec3-8fd6-4664-a324-22ca49a6a23d"
      },
      "source": [
        "#print the predictions for the next n days\n",
        "lgbm_prediction = lgbm.predict(x_forecast)\n",
        "print(lgbm_prediction)"
      ],
      "execution_count": 18,
      "outputs": [
        {
          "output_type": "stream",
          "text": [
            "[1.11000494 1.10828895 1.10828895 1.10211565 1.11453556 1.11453556\n",
            " 1.10211565 1.11453556 1.11000494 1.10828895 1.11000494 1.10242767\n",
            " 1.11000494 1.10729998 1.10936014 1.10729998 1.09881951 1.10936014\n",
            " 1.10729998 1.10729998 1.10268791 1.10268791 1.10729998 1.10268791\n",
            " 1.10211565 1.11000494 1.11000494 1.11000494 1.11453556 1.10710505]\n"
          ],
          "name": "stdout"
        }
      ]
    },
    {
      "cell_type": "code",
      "metadata": {
        "id": "xoWs918qNpkY",
        "colab_type": "code",
        "colab": {
          "base_uri": "https://localhost:8080/",
          "height": 265
        },
        "outputId": "b7c6ddb7-e25a-4a23-e7c6-cb0a7c8594fa"
      },
      "source": [
        "import matplotlib.pyplot as plt\n",
        "plt.plot(lgbm_prediction)\n",
        "plt.show()"
      ],
      "execution_count": 19,
      "outputs": [
        {
          "output_type": "display_data",
          "data": {
            "image/png": "[encoded data removed]",
            "text/plain": [
              "<Figure size 432x288 with 1 Axes>"
            ]
          },
          "metadata": {
            "tags": []
          }
        }
      ]
    }
  ]
}