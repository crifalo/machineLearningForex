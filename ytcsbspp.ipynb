{
  "nbformat": 4,
  "nbformat_minor": 0,
  "metadata": {
    "colab": {
      "name": "ytcsbspp.ipynb",
      "provenance": [],
      "collapsed_sections": [],
      "include_colab_link": true
    },
    "kernelspec": {
      "name": "python3",
      "display_name": "Python 3"
    }
  },
  "cells": [
    {
      "cell_type": "markdown",
      "metadata": {
        "id": "view-in-github",
        "colab_type": "text"
      },
      "source": [
        "<a href=\"https://colab.research.google.com/github/gomlfx/machineLearningForex/blob/master/ytcsbspp.ipynb\" target=\"_parent\"><img src=\"https://colab.research.google.com/assets/colab-badge.svg\" alt=\"Open In Colab\"/></a>"
      ]
    },
    {
      "cell_type": "code",
      "metadata": {
        "id": "zV0Vxye8-S-M",
        "colab_type": "code",
        "colab": {
          "base_uri": "https://localhost:8080/",
          "height": 340
        },
        "outputId": "aa08ef26-51fd-4fea-ce4c-cf4e434cca7a"
      },
      "source": [
        "pip install quandl"
      ],
      "execution_count": 1,
      "outputs": [
        {
          "output_type": "stream",
          "text": [
            "Requirement already satisfied: quandl in /usr/local/lib/python3.6/dist-packages (3.4.8)\n",
            "Requirement already satisfied: more-itertools<=5.0.0 in /usr/local/lib/python3.6/dist-packages (from quandl) (5.0.0)\n",
            "Requirement already satisfied: six in /usr/local/lib/python3.6/dist-packages (from quandl) (1.12.0)\n",
            "Requirement already satisfied: ndg-httpsclient in /usr/local/lib/python3.6/dist-packages (from quandl) (0.5.1)\n",
            "Requirement already satisfied: pyOpenSSL in /usr/local/lib/python3.6/dist-packages (from quandl) (19.1.0)\n",
            "Requirement already satisfied: python-dateutil in /usr/local/lib/python3.6/dist-packages (from quandl) (2.6.1)\n",
            "Requirement already satisfied: numpy>=1.8 in /usr/local/lib/python3.6/dist-packages (from quandl) (1.17.4)\n",
            "Requirement already satisfied: pyasn1 in /usr/local/lib/python3.6/dist-packages (from quandl) (0.4.7)\n",
            "Requirement already satisfied: pandas>=0.14 in /usr/local/lib/python3.6/dist-packages (from quandl) (0.25.3)\n",
            "Requirement already satisfied: requests>=2.7.0 in /usr/local/lib/python3.6/dist-packages (from quandl) (2.21.0)\n",
            "Requirement already satisfied: inflection>=0.3.1 in /usr/local/lib/python3.6/dist-packages (from quandl) (0.3.1)\n",
            "Requirement already satisfied: cryptography>=2.8 in /usr/local/lib/python3.6/dist-packages (from pyOpenSSL->quandl) (2.8)\n",
            "Requirement already satisfied: pytz>=2017.2 in /usr/local/lib/python3.6/dist-packages (from pandas>=0.14->quandl) (2018.9)\n",
            "Requirement already satisfied: chardet<3.1.0,>=3.0.2 in /usr/local/lib/python3.6/dist-packages (from requests>=2.7.0->quandl) (3.0.4)\n",
            "Requirement already satisfied: certifi>=2017.4.17 in /usr/local/lib/python3.6/dist-packages (from requests>=2.7.0->quandl) (2019.9.11)\n",
            "Requirement already satisfied: idna<2.9,>=2.5 in /usr/local/lib/python3.6/dist-packages (from requests>=2.7.0->quandl) (2.8)\n",
            "Requirement already satisfied: urllib3<1.25,>=1.21.1 in /usr/local/lib/python3.6/dist-packages (from requests>=2.7.0->quandl) (1.24.3)\n",
            "Requirement already satisfied: cffi!=1.11.3,>=1.8 in /usr/local/lib/python3.6/dist-packages (from cryptography>=2.8->pyOpenSSL->quandl) (1.13.2)\n",
            "Requirement already satisfied: pycparser in /usr/local/lib/python3.6/dist-packages (from cffi!=1.11.3,>=1.8->cryptography>=2.8->pyOpenSSL->quandl) (2.19)\n"
          ],
          "name": "stdout"
        }
      ]
    },
    {
      "cell_type": "code",
      "metadata": {
        "id": "PsLITBge-ttf",
        "colab_type": "code",
        "colab": {}
      },
      "source": [
        "import pandas as pd\n",
        "import quandl\n",
        "import numpy as np\n",
        "from sklearn.linear_model import LinearRegression\n",
        "from sklearn.svm import SVR\n",
        "from sklearn.model_selection import train_test_split"
      ],
      "execution_count": 0,
      "outputs": []
    },
    {
      "cell_type": "code",
      "metadata": {
        "id": "GPlB5KW7aDwV",
        "colab_type": "code",
        "colab": {
          "base_uri": "https://localhost:8080/",
          "height": 204
        },
        "outputId": "73aad122-335c-45b7-a162-c6d642d6e151"
      },
      "source": [
        "df = pd.read_csv(\"https://raw.githubusercontent.com/gomlfx/machineLearningForex/master/EURUSD60.csv\")\n",
        "df.tail()"
      ],
      "execution_count": 3,
      "outputs": [
        {
          "output_type": "execute_result",
          "data": {
            "text/html": [
              "<div>\n",
              "<style scoped>\n",
              "    .dataframe tbody tr th:only-of-type {\n",
              "        vertical-align: middle;\n",
              "    }\n",
              "\n",
              "    .dataframe tbody tr th {\n",
              "        vertical-align: top;\n",
              "    }\n",
              "\n",
              "    .dataframe thead th {\n",
              "        text-align: right;\n",
              "    }\n",
              "</style>\n",
              "<table border=\"1\" class=\"dataframe\">\n",
              "  <thead>\n",
              "    <tr style=\"text-align: right;\">\n",
              "      <th></th>\n",
              "      <th>1971.01.04</th>\n",
              "      <th>00:00</th>\n",
              "      <th>0.53690</th>\n",
              "      <th>0.53690.1</th>\n",
              "      <th>0.53690.2</th>\n",
              "      <th>0.53690.3</th>\n",
              "      <th>1</th>\n",
              "    </tr>\n",
              "  </thead>\n",
              "  <tbody>\n",
              "    <tr>\n",
              "      <th>136465</th>\n",
              "      <td>2019.11.29</td>\n",
              "      <td>16:00</td>\n",
              "      <td>1.09923</td>\n",
              "      <td>1.10026</td>\n",
              "      <td>1.09899</td>\n",
              "      <td>1.10000</td>\n",
              "      <td>4084</td>\n",
              "    </tr>\n",
              "    <tr>\n",
              "      <th>136466</th>\n",
              "      <td>2019.11.29</td>\n",
              "      <td>17:00</td>\n",
              "      <td>1.10000</td>\n",
              "      <td>1.10281</td>\n",
              "      <td>1.09986</td>\n",
              "      <td>1.10274</td>\n",
              "      <td>6420</td>\n",
              "    </tr>\n",
              "    <tr>\n",
              "      <th>136467</th>\n",
              "      <td>2019.11.29</td>\n",
              "      <td>18:00</td>\n",
              "      <td>1.10274</td>\n",
              "      <td>1.10277</td>\n",
              "      <td>1.10144</td>\n",
              "      <td>1.10188</td>\n",
              "      <td>5662</td>\n",
              "    </tr>\n",
              "    <tr>\n",
              "      <th>136468</th>\n",
              "      <td>2019.11.29</td>\n",
              "      <td>19:00</td>\n",
              "      <td>1.10188</td>\n",
              "      <td>1.10226</td>\n",
              "      <td>1.10160</td>\n",
              "      <td>1.10161</td>\n",
              "      <td>3267</td>\n",
              "    </tr>\n",
              "    <tr>\n",
              "      <th>136469</th>\n",
              "      <td>2019.11.29</td>\n",
              "      <td>20:00</td>\n",
              "      <td>1.10160</td>\n",
              "      <td>1.10199</td>\n",
              "      <td>1.10160</td>\n",
              "      <td>1.10197</td>\n",
              "      <td>154</td>\n",
              "    </tr>\n",
              "  </tbody>\n",
              "</table>\n",
              "</div>"
            ],
            "text/plain": [
              "        1971.01.04  00:00  0.53690  0.53690.1  0.53690.2  0.53690.3     1\n",
              "136465  2019.11.29  16:00  1.09923    1.10026    1.09899    1.10000  4084\n",
              "136466  2019.11.29  17:00  1.10000    1.10281    1.09986    1.10274  6420\n",
              "136467  2019.11.29  18:00  1.10274    1.10277    1.10144    1.10188  5662\n",
              "136468  2019.11.29  19:00  1.10188    1.10226    1.10160    1.10161  3267\n",
              "136469  2019.11.29  20:00  1.10160    1.10199    1.10160    1.10197   154"
            ]
          },
          "metadata": {
            "tags": []
          },
          "execution_count": 3
        }
      ]
    },
    {
      "cell_type": "code",
      "metadata": {
        "id": "UFJcA1KY_FeB",
        "colab_type": "code",
        "colab": {
          "base_uri": "https://localhost:8080/",
          "height": 204
        },
        "outputId": "1848dd45-da5d-4a9c-9f35-42c616cb0883"
      },
      "source": [
        "#get the data\n",
        "column_headers = ['date', 'time', 'open', 'high', 'low', 'close', 'volume']\n",
        "df = pd.read_csv(\"https://raw.githubusercontent.com/gomlfx/machineLearningForex/master/EURUSD60.csv\", header=None, names= column_headers)\n",
        "\n",
        "df.tail()"
      ],
      "execution_count": 4,
      "outputs": [
        {
          "output_type": "execute_result",
          "data": {
            "text/html": [
              "<div>\n",
              "<style scoped>\n",
              "    .dataframe tbody tr th:only-of-type {\n",
              "        vertical-align: middle;\n",
              "    }\n",
              "\n",
              "    .dataframe tbody tr th {\n",
              "        vertical-align: top;\n",
              "    }\n",
              "\n",
              "    .dataframe thead th {\n",
              "        text-align: right;\n",
              "    }\n",
              "</style>\n",
              "<table border=\"1\" class=\"dataframe\">\n",
              "  <thead>\n",
              "    <tr style=\"text-align: right;\">\n",
              "      <th></th>\n",
              "      <th>date</th>\n",
              "      <th>time</th>\n",
              "      <th>open</th>\n",
              "      <th>high</th>\n",
              "      <th>low</th>\n",
              "      <th>close</th>\n",
              "      <th>volume</th>\n",
              "    </tr>\n",
              "  </thead>\n",
              "  <tbody>\n",
              "    <tr>\n",
              "      <th>136466</th>\n",
              "      <td>2019.11.29</td>\n",
              "      <td>16:00</td>\n",
              "      <td>1.09923</td>\n",
              "      <td>1.10026</td>\n",
              "      <td>1.09899</td>\n",
              "      <td>1.10000</td>\n",
              "      <td>4084</td>\n",
              "    </tr>\n",
              "    <tr>\n",
              "      <th>136467</th>\n",
              "      <td>2019.11.29</td>\n",
              "      <td>17:00</td>\n",
              "      <td>1.10000</td>\n",
              "      <td>1.10281</td>\n",
              "      <td>1.09986</td>\n",
              "      <td>1.10274</td>\n",
              "      <td>6420</td>\n",
              "    </tr>\n",
              "    <tr>\n",
              "      <th>136468</th>\n",
              "      <td>2019.11.29</td>\n",
              "      <td>18:00</td>\n",
              "      <td>1.10274</td>\n",
              "      <td>1.10277</td>\n",
              "      <td>1.10144</td>\n",
              "      <td>1.10188</td>\n",
              "      <td>5662</td>\n",
              "    </tr>\n",
              "    <tr>\n",
              "      <th>136469</th>\n",
              "      <td>2019.11.29</td>\n",
              "      <td>19:00</td>\n",
              "      <td>1.10188</td>\n",
              "      <td>1.10226</td>\n",
              "      <td>1.10160</td>\n",
              "      <td>1.10161</td>\n",
              "      <td>3267</td>\n",
              "    </tr>\n",
              "    <tr>\n",
              "      <th>136470</th>\n",
              "      <td>2019.11.29</td>\n",
              "      <td>20:00</td>\n",
              "      <td>1.10160</td>\n",
              "      <td>1.10199</td>\n",
              "      <td>1.10160</td>\n",
              "      <td>1.10197</td>\n",
              "      <td>154</td>\n",
              "    </tr>\n",
              "  </tbody>\n",
              "</table>\n",
              "</div>"
            ],
            "text/plain": [
              "              date   time     open     high      low    close  volume\n",
              "136466  2019.11.29  16:00  1.09923  1.10026  1.09899  1.10000    4084\n",
              "136467  2019.11.29  17:00  1.10000  1.10281  1.09986  1.10274    6420\n",
              "136468  2019.11.29  18:00  1.10274  1.10277  1.10144  1.10188    5662\n",
              "136469  2019.11.29  19:00  1.10188  1.10226  1.10160  1.10161    3267\n",
              "136470  2019.11.29  20:00  1.10160  1.10199  1.10160  1.10197     154"
            ]
          },
          "metadata": {
            "tags": []
          },
          "execution_count": 4
        }
      ]
    },
    {
      "cell_type": "code",
      "metadata": {
        "id": "fra8eXpdZygG",
        "colab_type": "code",
        "colab": {}
      },
      "source": [
        ""
      ],
      "execution_count": 0,
      "outputs": []
    },
    {
      "cell_type": "code",
      "metadata": {
        "id": "HcMW5QPLOlkg",
        "colab_type": "code",
        "colab": {
          "base_uri": "https://localhost:8080/",
          "height": 204
        },
        "outputId": "6d59b096-68a7-4603-c068-cf30b60b6156"
      },
      "source": [
        "df = df[['close']]\n",
        "df.tail()"
      ],
      "execution_count": 5,
      "outputs": [
        {
          "output_type": "execute_result",
          "data": {
            "text/html": [
              "<div>\n",
              "<style scoped>\n",
              "    .dataframe tbody tr th:only-of-type {\n",
              "        vertical-align: middle;\n",
              "    }\n",
              "\n",
              "    .dataframe tbody tr th {\n",
              "        vertical-align: top;\n",
              "    }\n",
              "\n",
              "    .dataframe thead th {\n",
              "        text-align: right;\n",
              "    }\n",
              "</style>\n",
              "<table border=\"1\" class=\"dataframe\">\n",
              "  <thead>\n",
              "    <tr style=\"text-align: right;\">\n",
              "      <th></th>\n",
              "      <th>close</th>\n",
              "    </tr>\n",
              "  </thead>\n",
              "  <tbody>\n",
              "    <tr>\n",
              "      <th>136466</th>\n",
              "      <td>1.10000</td>\n",
              "    </tr>\n",
              "    <tr>\n",
              "      <th>136467</th>\n",
              "      <td>1.10274</td>\n",
              "    </tr>\n",
              "    <tr>\n",
              "      <th>136468</th>\n",
              "      <td>1.10188</td>\n",
              "    </tr>\n",
              "    <tr>\n",
              "      <th>136469</th>\n",
              "      <td>1.10161</td>\n",
              "    </tr>\n",
              "    <tr>\n",
              "      <th>136470</th>\n",
              "      <td>1.10197</td>\n",
              "    </tr>\n",
              "  </tbody>\n",
              "</table>\n",
              "</div>"
            ],
            "text/plain": [
              "          close\n",
              "136466  1.10000\n",
              "136467  1.10274\n",
              "136468  1.10188\n",
              "136469  1.10161\n",
              "136470  1.10197"
            ]
          },
          "metadata": {
            "tags": []
          },
          "execution_count": 5
        }
      ]
    },
    {
      "cell_type": "code",
      "metadata": {
        "id": "ABtBSIdg-1_G",
        "colab_type": "code",
        "colab": {
          "base_uri": "https://localhost:8080/",
          "height": 119
        },
        "outputId": "9f5116f5-e3e1-464a-928a-dfdaeb310906"
      },
      "source": [
        "forecast_out = 30\n",
        "#create another column (the target or dependent variable) shifted 'n' units up\n",
        "df['Prediction'] = df[['close']].shift(-forecast_out)\n",
        "print(df.tail())"
      ],
      "execution_count": 6,
      "outputs": [
        {
          "output_type": "stream",
          "text": [
            "          close  Prediction\n",
            "136466  1.10000         NaN\n",
            "136467  1.10274         NaN\n",
            "136468  1.10188         NaN\n",
            "136469  1.10161         NaN\n",
            "136470  1.10197         NaN\n"
          ],
          "name": "stdout"
        }
      ]
    },
    {
      "cell_type": "code",
      "metadata": {
        "id": "pnT04yruC4MR",
        "colab_type": "code",
        "colab": {
          "base_uri": "https://localhost:8080/",
          "height": 136
        },
        "outputId": "89909fb1-1f4a-4e40-8682-ac03123926e0"
      },
      "source": [
        "#create independent x\n",
        "x = np.array(df.drop(['Prediction'],1))\n",
        "#remove last n rows\n",
        "x = x[:-forecast_out]\n",
        "print(x)\n"
      ],
      "execution_count": 7,
      "outputs": [
        {
          "output_type": "stream",
          "text": [
            "[[0.5369 ]\n",
            " [0.5366 ]\n",
            " [0.5365 ]\n",
            " ...\n",
            " [1.1011 ]\n",
            " [1.10021]\n",
            " [1.10034]]\n"
          ],
          "name": "stdout"
        }
      ]
    },
    {
      "cell_type": "code",
      "metadata": {
        "id": "2vio6UNeF6i_",
        "colab_type": "code",
        "colab": {
          "base_uri": "https://localhost:8080/",
          "height": 34
        },
        "outputId": "a7b63689-f40c-421e-ff71-5fa4ffb84c30"
      },
      "source": [
        "#convert df to np array\n",
        "y = np.array(df['Prediction'])\n",
        "#get all y values except last n rows\n",
        "y = y[:-forecast_out]\n",
        "print(y)"
      ],
      "execution_count": 8,
      "outputs": [
        {
          "output_type": "stream",
          "text": [
            "[0.5387  0.5384  0.5385  ... 1.10188 1.10161 1.10197]\n"
          ],
          "name": "stdout"
        }
      ]
    },
    {
      "cell_type": "code",
      "metadata": {
        "id": "b_JRkbf3wdL8",
        "colab_type": "code",
        "colab": {
          "base_uri": "https://localhost:8080/",
          "height": 204
        },
        "outputId": "897f1adf-444f-4204-8ddb-4dc750ab7fbe"
      },
      "source": [
        "df.head()"
      ],
      "execution_count": 9,
      "outputs": [
        {
          "output_type": "execute_result",
          "data": {
            "text/html": [
              "<div>\n",
              "<style scoped>\n",
              "    .dataframe tbody tr th:only-of-type {\n",
              "        vertical-align: middle;\n",
              "    }\n",
              "\n",
              "    .dataframe tbody tr th {\n",
              "        vertical-align: top;\n",
              "    }\n",
              "\n",
              "    .dataframe thead th {\n",
              "        text-align: right;\n",
              "    }\n",
              "</style>\n",
              "<table border=\"1\" class=\"dataframe\">\n",
              "  <thead>\n",
              "    <tr style=\"text-align: right;\">\n",
              "      <th></th>\n",
              "      <th>close</th>\n",
              "      <th>Prediction</th>\n",
              "    </tr>\n",
              "  </thead>\n",
              "  <tbody>\n",
              "    <tr>\n",
              "      <th>0</th>\n",
              "      <td>0.5369</td>\n",
              "      <td>0.5387</td>\n",
              "    </tr>\n",
              "    <tr>\n",
              "      <th>1</th>\n",
              "      <td>0.5366</td>\n",
              "      <td>0.5384</td>\n",
              "    </tr>\n",
              "    <tr>\n",
              "      <th>2</th>\n",
              "      <td>0.5365</td>\n",
              "      <td>0.5385</td>\n",
              "    </tr>\n",
              "    <tr>\n",
              "      <th>3</th>\n",
              "      <td>0.5368</td>\n",
              "      <td>0.5388</td>\n",
              "    </tr>\n",
              "    <tr>\n",
              "      <th>4</th>\n",
              "      <td>0.5371</td>\n",
              "      <td>0.5387</td>\n",
              "    </tr>\n",
              "  </tbody>\n",
              "</table>\n",
              "</div>"
            ],
            "text/plain": [
              "    close  Prediction\n",
              "0  0.5369      0.5387\n",
              "1  0.5366      0.5384\n",
              "2  0.5365      0.5385\n",
              "3  0.5368      0.5388\n",
              "4  0.5371      0.5387"
            ]
          },
          "metadata": {
            "tags": []
          },
          "execution_count": 9
        }
      ]
    },
    {
      "cell_type": "code",
      "metadata": {
        "id": "PbR5fC9AGNmT",
        "colab_type": "code",
        "colab": {}
      },
      "source": [
        "#split data into 80/20 train/test\n",
        "x_train, x_test, y_train, y_test = train_test_split(x,y,test_size=0.2)"
      ],
      "execution_count": 0,
      "outputs": []
    },
    {
      "cell_type": "code",
      "metadata": {
        "id": "MvvrUDCpG4u1",
        "colab_type": "code",
        "colab": {}
      },
      "source": [
        "#make/train model svm"
      ],
      "execution_count": 0,
      "outputs": []
    },
    {
      "cell_type": "code",
      "metadata": {
        "id": "mf290pf_HCZZ",
        "colab_type": "code",
        "colab": {}
      },
      "source": [
        "# svr_rbf = SVR(kernel = 'rbf', C=1e3, gamma=0.1)\n",
        "# svr_rbf.fit(x_train, y_train)"
      ],
      "execution_count": 0,
      "outputs": []
    },
    {
      "cell_type": "code",
      "metadata": {
        "id": "MTXI2aIHHgX6",
        "colab_type": "code",
        "colab": {}
      },
      "source": [
        "# #test model \n",
        "# svm_confidence = svr_rbf.score(x_test, y_test)\n",
        "# print(\"svm confidence:\", svm_confidence)"
      ],
      "execution_count": 0,
      "outputs": []
    },
    {
      "cell_type": "code",
      "metadata": {
        "id": "forWxWMII4rQ",
        "colab_type": "code",
        "colab": {}
      },
      "source": [
        "#make/train linear regression"
      ],
      "execution_count": 0,
      "outputs": []
    },
    {
      "cell_type": "code",
      "metadata": {
        "id": "2Z9x6XGpI-Ds",
        "colab_type": "code",
        "colab": {}
      },
      "source": [
        "# lr = LinearRegression()\n",
        "# #train model\n",
        "# lr.fit(x_train, y_train)"
      ],
      "execution_count": 0,
      "outputs": []
    },
    {
      "cell_type": "code",
      "metadata": {
        "id": "izhWwCEDJPK7",
        "colab_type": "code",
        "colab": {}
      },
      "source": [
        "# lr_confidence = lr.score(x_test, y_test)\n",
        "# print(\"lr confidence:\", lr_confidence)"
      ],
      "execution_count": 0,
      "outputs": []
    },
    {
      "cell_type": "code",
      "metadata": {
        "id": "0OCgZlWOJccT",
        "colab_type": "code",
        "colab": {}
      },
      "source": [
        "#make/train lgbm\n",
        "from lightgbm import LGBMRegressor "
      ],
      "execution_count": 0,
      "outputs": []
    },
    {
      "cell_type": "code",
      "metadata": {
        "id": "gNavXjYRKIyC",
        "colab_type": "code",
        "colab": {
          "base_uri": "https://localhost:8080/",
          "height": 119
        },
        "outputId": "aec35aa7-64a8-458c-fc20-0bde6877390d"
      },
      "source": [
        "lgbm = LGBMRegressor()\n",
        "#train the model\n",
        "lgbm.fit(x_train, y_train)"
      ],
      "execution_count": 18,
      "outputs": [
        {
          "output_type": "execute_result",
          "data": {
            "text/plain": [
              "LGBMRegressor(boosting_type='gbdt', class_weight=None, colsample_bytree=1.0,\n",
              "              importance_type='split', learning_rate=0.1, max_depth=-1,\n",
              "              min_child_samples=20, min_child_weight=0.001, min_split_gain=0.0,\n",
              "              n_estimators=100, n_jobs=-1, num_leaves=31, objective=None,\n",
              "              random_state=None, reg_alpha=0.0, reg_lambda=0.0, silent=True,\n",
              "              subsample=1.0, subsample_for_bin=200000, subsample_freq=0)"
            ]
          },
          "metadata": {
            "tags": []
          },
          "execution_count": 18
        }
      ]
    },
    {
      "cell_type": "code",
      "metadata": {
        "id": "a7d6LvTxKQWY",
        "colab_type": "code",
        "colab": {
          "base_uri": "https://localhost:8080/",
          "height": 34
        },
        "outputId": "63d279b2-1d4d-45af-f66d-6e8c1537b731"
      },
      "source": [
        "lgbm_confidence = lgbm.score(x_test, y_test)\n",
        "print(\"lgbm confidence: \", lgbm_confidence)"
      ],
      "execution_count": 19,
      "outputs": [
        {
          "output_type": "stream",
          "text": [
            "lgbm confidence:  0.9949624190263977\n"
          ],
          "name": "stdout"
        }
      ]
    },
    {
      "cell_type": "code",
      "metadata": {
        "id": "t6iNacEfKp7I",
        "colab_type": "code",
        "colab": {
          "base_uri": "https://localhost:8080/",
          "height": 527
        },
        "outputId": "44cb0435-8510-4c1a-bd05-e321cb503d13"
      },
      "source": [
        "#set x_forecast equal to the last 30 rows of the original data set from close column\n",
        "x_forecast = np.array(df.drop(['Prediction'],1))[-forecast_out:]\n",
        "print(x_forecast)"
      ],
      "execution_count": 20,
      "outputs": [
        {
          "output_type": "stream",
          "text": [
            "[[1.10081]\n",
            " [1.10053]\n",
            " [1.10061]\n",
            " [1.10061]\n",
            " [1.10078]\n",
            " [1.10085]\n",
            " [1.10089]\n",
            " [1.10084]\n",
            " [1.1007 ]\n",
            " [1.10105]\n",
            " [1.10113]\n",
            " [1.10102]\n",
            " [1.10114]\n",
            " [1.101  ]\n",
            " [1.10104]\n",
            " [1.10102]\n",
            " [1.10101]\n",
            " [1.1009 ]\n",
            " [1.10111]\n",
            " [1.1005 ]\n",
            " [1.10044]\n",
            " [1.10047]\n",
            " [1.09961]\n",
            " [1.09962]\n",
            " [1.09924]\n",
            " [1.1    ]\n",
            " [1.10274]\n",
            " [1.10188]\n",
            " [1.10161]\n",
            " [1.10197]]\n"
          ],
          "name": "stdout"
        }
      ]
    },
    {
      "cell_type": "code",
      "metadata": {
        "id": "_HVOmKRRLFBF",
        "colab_type": "code",
        "colab": {
          "base_uri": "https://localhost:8080/",
          "height": 102
        },
        "outputId": "b481bac0-6160-48a9-d176-1e6b158f5c14"
      },
      "source": [
        "#print the predictions for the next n days\n",
        "lgbm_prediction = lgbm.predict(x_forecast)\n",
        "print(lgbm_prediction)"
      ],
      "execution_count": 21,
      "outputs": [
        {
          "output_type": "stream",
          "text": [
            "[1.10105493 1.10105493 1.10105493 1.10105493 1.10105493 1.10105493\n",
            " 1.10105493 1.10105493 1.10105493 1.10105493 1.10105493 1.10105493\n",
            " 1.10105493 1.10105493 1.10105493 1.10105493 1.10105493 1.10105493\n",
            " 1.10105493 1.10105493 1.10105493 1.10105493 1.09955059 1.09955059\n",
            " 1.09955059 1.10105493 1.10125803 1.10125803 1.10125803 1.10125803]\n"
          ],
          "name": "stdout"
        }
      ]
    },
    {
      "cell_type": "code",
      "metadata": {
        "id": "xoWs918qNpkY",
        "colab_type": "code",
        "colab": {
          "base_uri": "https://localhost:8080/",
          "height": 265
        },
        "outputId": "01c85ff3-2a07-4bc4-9f81-ac6ee5bfa232"
      },
      "source": [
        "import matplotlib.pyplot as plt\n",
        "plt.plot(lgbm_prediction)\n",
        "plt.show()"
      ],
      "execution_count": 22,
      "outputs": [
        {
          "output_type": "display_data",
          "data": {
            "image/png": "[encoded data removed]",
            "text/plain": [
              "<Figure size 432x288 with 1 Axes>"
            ]
          },
          "metadata": {
            "tags": []
          }
        }
      ]
    }
  ]
}